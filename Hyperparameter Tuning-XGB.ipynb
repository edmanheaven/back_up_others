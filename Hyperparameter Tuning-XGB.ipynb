{
 "cells": [
  {
   "cell_type": "code",
   "execution_count": 5,
   "id": "c2421a0b",
   "metadata": {},
   "outputs": [],
   "source": [
    "import pandas as pd\n",
    "import numpy as np\n",
    "from sklearn.model_selection import StratifiedKFold\n",
    "from sklearn.model_selection import RandomizedSearchCV\n",
    "from scipy.stats import uniform, randint\n",
    "from sklearn.model_selection import StratifiedKFold"
   ]
  },
  {
   "cell_type": "code",
   "execution_count": 6,
   "id": "acc727d3-9e13-4d7b-9f8f-723add86efde",
   "metadata": {},
   "outputs": [],
   "source": [
    "#!pip install scikit-learn"
   ]
  },
  {
   "cell_type": "code",
   "execution_count": 7,
   "id": "e485770a",
   "metadata": {},
   "outputs": [],
   "source": [
    "#monday\n",
    "#load df\n",
    "segment = 'NTC'\n",
    "X = pd.read_csv(f'./Wrangled_Data/wrangled_{segment}.csv')\n",
    "\n",
    "#remove rows with missing target: D3_within12months\n",
    "X.dropna(axis=0, subset=['D3_within12months'], inplace=True)\n",
    "y = X.D3_within12months\n",
    "X.drop(['D3_within12months', 'loan_account_no'], axis=1, inplace=True)\n",
    "\n",
    "from sklearn.model_selection import train_test_split\n",
    "X_train, X_test, y_train, y_test = train_test_split(X, y, \n",
    "                                                    train_size=0.8, test_size=0.2,\n",
    "                                                    random_state=11, stratify = y)\n",
    "object_columns = X.select_dtypes(include=['object','category']).columns\n",
    "from sklearn.preprocessing import OneHotEncoder\n",
    "\n",
    "from sklearn.preprocessing import OneHotEncoder\n",
    "\n",
    "ohe = OneHotEncoder(sparse_output = False,drop='first').set_output(transform='pandas')\n",
    "\n",
    "one_hot_encoded_object_X_train = ohe.fit_transform(X_train[object_columns])\n",
    "one_hot_encoded_object_X_test = ohe.transform(X_test[object_columns])\n",
    "\n",
    "final_X_train = pd.concat([one_hot_encoded_object_X_train, X_train.select_dtypes('number')], axis=1)\n",
    "final_X_test = pd.concat([one_hot_encoded_object_X_test, X_test.select_dtypes('number')], axis=1)\n",
    "\n",
    "X_train = final_X_train\n",
    "X_test = final_X_test"
   ]
  },
  {
   "cell_type": "code",
   "execution_count": 8,
   "id": "68d001c1",
   "metadata": {},
   "outputs": [
    {
     "name": "stdout",
     "output_type": "stream",
     "text": [
      "Done loading NTC\n"
     ]
    }
   ],
   "source": [
    "print(f'Done loading {segment}')"
   ]
  },
  {
   "cell_type": "markdown",
   "id": "04804e01",
   "metadata": {},
   "source": [
    "# 2. XGBoost Tuning"
   ]
  },
  {
   "cell_type": "code",
   "execution_count": 9,
   "id": "d64a4380-aa4f-41d9-8f62-e17b0b9c8f82",
   "metadata": {},
   "outputs": [],
   "source": [
    "#!pip install xgboost --pre"
   ]
  },
  {
   "cell_type": "markdown",
   "id": "5c7cc01b",
   "metadata": {},
   "source": [
    "## 2.1 Find Best Parameters"
   ]
  },
  {
   "cell_type": "code",
   "execution_count": 10,
   "id": "9ff2c589",
   "metadata": {},
   "outputs": [
    {
     "ename": "AttributeError",
     "evalue": "'super' object has no attribute '__sklearn_tags__'",
     "output_type": "error",
     "traceback": [
      "\u001b[1;31m---------------------------------------------------------------------------\u001b[0m",
      "\u001b[1;31mAttributeError\u001b[0m                            Traceback (most recent call last)",
      "Cell \u001b[1;32mIn[10], line 30\u001b[0m\n\u001b[0;32m     26\u001b[0m random_search \u001b[38;5;241m=\u001b[39m RandomizedSearchCV(estimator\u001b[38;5;241m=\u001b[39mxgb_model, param_distributions\u001b[38;5;241m=\u001b[39mparam_distributions, \n\u001b[0;32m     27\u001b[0m                                    n_iter\u001b[38;5;241m=\u001b[39m\u001b[38;5;241m12\u001b[39m, scoring\u001b[38;5;241m=\u001b[39m\u001b[38;5;124m'\u001b[39m\u001b[38;5;124mroc_auc\u001b[39m\u001b[38;5;124m'\u001b[39m, cv\u001b[38;5;241m=\u001b[39mcv, verbose\u001b[38;5;241m=\u001b[39m\u001b[38;5;241m1\u001b[39m, random_state\u001b[38;5;241m=\u001b[39m\u001b[38;5;241m42\u001b[39m)\n\u001b[0;32m     29\u001b[0m \u001b[38;5;66;03m# Fit the random search\u001b[39;00m\n\u001b[1;32m---> 30\u001b[0m \u001b[43mrandom_search\u001b[49m\u001b[38;5;241;43m.\u001b[39;49m\u001b[43mfit\u001b[49m\u001b[43m(\u001b[49m\u001b[43mX_train\u001b[49m\u001b[43m,\u001b[49m\u001b[43m \u001b[49m\u001b[43my_train\u001b[49m\u001b[43m)\u001b[49m\n\u001b[0;32m     32\u001b[0m cross_valid \u001b[38;5;241m=\u001b[39m pd\u001b[38;5;241m.\u001b[39mDataFrame(random_search\u001b[38;5;241m.\u001b[39mcv_results_)\n\u001b[0;32m     33\u001b[0m cv_results_columns \u001b[38;5;241m=\u001b[39m [\u001b[38;5;124m'\u001b[39m\u001b[38;5;124mparams\u001b[39m\u001b[38;5;124m'\u001b[39m, \u001b[38;5;124m'\u001b[39m\u001b[38;5;124msplit0_test_score\u001b[39m\u001b[38;5;124m'\u001b[39m, \u001b[38;5;124m'\u001b[39m\u001b[38;5;124msplit1_test_score\u001b[39m\u001b[38;5;124m'\u001b[39m, \u001b[38;5;124m'\u001b[39m\u001b[38;5;124msplit2_test_score\u001b[39m\u001b[38;5;124m'\u001b[39m, \n\u001b[0;32m     34\u001b[0m                       \u001b[38;5;124m'\u001b[39m\u001b[38;5;124msplit3_test_score\u001b[39m\u001b[38;5;124m'\u001b[39m, \u001b[38;5;124m'\u001b[39m\u001b[38;5;124msplit4_test_score\u001b[39m\u001b[38;5;124m'\u001b[39m, \u001b[38;5;124m'\u001b[39m\u001b[38;5;124mmean_test_score\u001b[39m\u001b[38;5;124m'\u001b[39m, \u001b[38;5;124m'\u001b[39m\u001b[38;5;124mstd_test_score\u001b[39m\u001b[38;5;124m'\u001b[39m, \u001b[38;5;124m'\u001b[39m\u001b[38;5;124mrank_test_score\u001b[39m\u001b[38;5;124m'\u001b[39m]\n",
      "File \u001b[1;32mC:\\Users\\emanlangit\\Documents\\2025\\00 ACSIN\\.venv\\Lib\\site-packages\\sklearn\\base.py:1389\u001b[0m, in \u001b[0;36m_fit_context.<locals>.decorator.<locals>.wrapper\u001b[1;34m(estimator, *args, **kwargs)\u001b[0m\n\u001b[0;32m   1382\u001b[0m     estimator\u001b[38;5;241m.\u001b[39m_validate_params()\n\u001b[0;32m   1384\u001b[0m \u001b[38;5;28;01mwith\u001b[39;00m config_context(\n\u001b[0;32m   1385\u001b[0m     skip_parameter_validation\u001b[38;5;241m=\u001b[39m(\n\u001b[0;32m   1386\u001b[0m         prefer_skip_nested_validation \u001b[38;5;129;01mor\u001b[39;00m global_skip_validation\n\u001b[0;32m   1387\u001b[0m     )\n\u001b[0;32m   1388\u001b[0m ):\n\u001b[1;32m-> 1389\u001b[0m     \u001b[38;5;28;01mreturn\u001b[39;00m \u001b[43mfit_method\u001b[49m\u001b[43m(\u001b[49m\u001b[43mestimator\u001b[49m\u001b[43m,\u001b[49m\u001b[43m \u001b[49m\u001b[38;5;241;43m*\u001b[39;49m\u001b[43margs\u001b[49m\u001b[43m,\u001b[49m\u001b[43m \u001b[49m\u001b[38;5;241;43m*\u001b[39;49m\u001b[38;5;241;43m*\u001b[39;49m\u001b[43mkwargs\u001b[49m\u001b[43m)\u001b[49m\n",
      "File \u001b[1;32mC:\\Users\\emanlangit\\Documents\\2025\\00 ACSIN\\.venv\\Lib\\site-packages\\sklearn\\model_selection\\_search.py:933\u001b[0m, in \u001b[0;36mBaseSearchCV.fit\u001b[1;34m(self, X, y, **params)\u001b[0m\n\u001b[0;32m    929\u001b[0m params \u001b[38;5;241m=\u001b[39m _check_method_params(X, params\u001b[38;5;241m=\u001b[39mparams)\n\u001b[0;32m    931\u001b[0m routed_params \u001b[38;5;241m=\u001b[39m \u001b[38;5;28mself\u001b[39m\u001b[38;5;241m.\u001b[39m_get_routed_params_for_fit(params)\n\u001b[1;32m--> 933\u001b[0m cv_orig \u001b[38;5;241m=\u001b[39m check_cv(\u001b[38;5;28mself\u001b[39m\u001b[38;5;241m.\u001b[39mcv, y, classifier\u001b[38;5;241m=\u001b[39m\u001b[43mis_classifier\u001b[49m\u001b[43m(\u001b[49m\u001b[43mestimator\u001b[49m\u001b[43m)\u001b[49m)\n\u001b[0;32m    934\u001b[0m n_splits \u001b[38;5;241m=\u001b[39m cv_orig\u001b[38;5;241m.\u001b[39mget_n_splits(X, y, \u001b[38;5;241m*\u001b[39m\u001b[38;5;241m*\u001b[39mrouted_params\u001b[38;5;241m.\u001b[39msplitter\u001b[38;5;241m.\u001b[39msplit)\n\u001b[0;32m    936\u001b[0m base_estimator \u001b[38;5;241m=\u001b[39m clone(\u001b[38;5;28mself\u001b[39m\u001b[38;5;241m.\u001b[39mestimator)\n",
      "File \u001b[1;32mC:\\Users\\emanlangit\\Documents\\2025\\00 ACSIN\\.venv\\Lib\\site-packages\\sklearn\\base.py:1237\u001b[0m, in \u001b[0;36mis_classifier\u001b[1;34m(estimator)\u001b[0m\n\u001b[0;32m   1230\u001b[0m     warnings\u001b[38;5;241m.\u001b[39mwarn(\n\u001b[0;32m   1231\u001b[0m         \u001b[38;5;124mf\u001b[39m\u001b[38;5;124m\"\u001b[39m\u001b[38;5;124mpassing a class to \u001b[39m\u001b[38;5;132;01m{\u001b[39;00m\u001b[38;5;28mprint\u001b[39m(inspect\u001b[38;5;241m.\u001b[39mstack()[\u001b[38;5;241m0\u001b[39m][\u001b[38;5;241m3\u001b[39m])\u001b[38;5;132;01m}\u001b[39;00m\u001b[38;5;124m is deprecated and \u001b[39m\u001b[38;5;124m\"\u001b[39m\n\u001b[0;32m   1232\u001b[0m         \u001b[38;5;124m\"\u001b[39m\u001b[38;5;124mwill be removed in 1.8. Use an instance of the class instead.\u001b[39m\u001b[38;5;124m\"\u001b[39m,\n\u001b[0;32m   1233\u001b[0m         \u001b[38;5;167;01mFutureWarning\u001b[39;00m,\n\u001b[0;32m   1234\u001b[0m     )\n\u001b[0;32m   1235\u001b[0m     \u001b[38;5;28;01mreturn\u001b[39;00m \u001b[38;5;28mgetattr\u001b[39m(estimator, \u001b[38;5;124m\"\u001b[39m\u001b[38;5;124m_estimator_type\u001b[39m\u001b[38;5;124m\"\u001b[39m, \u001b[38;5;28;01mNone\u001b[39;00m) \u001b[38;5;241m==\u001b[39m \u001b[38;5;124m\"\u001b[39m\u001b[38;5;124mclassifier\u001b[39m\u001b[38;5;124m\"\u001b[39m\n\u001b[1;32m-> 1237\u001b[0m \u001b[38;5;28;01mreturn\u001b[39;00m \u001b[43mget_tags\u001b[49m\u001b[43m(\u001b[49m\u001b[43mestimator\u001b[49m\u001b[43m)\u001b[49m\u001b[38;5;241m.\u001b[39mestimator_type \u001b[38;5;241m==\u001b[39m \u001b[38;5;124m\"\u001b[39m\u001b[38;5;124mclassifier\u001b[39m\u001b[38;5;124m\"\u001b[39m\n",
      "File \u001b[1;32mC:\\Users\\emanlangit\\Documents\\2025\\00 ACSIN\\.venv\\Lib\\site-packages\\sklearn\\utils\\_tags.py:430\u001b[0m, in \u001b[0;36mget_tags\u001b[1;34m(estimator)\u001b[0m\n\u001b[0;32m    428\u001b[0m \u001b[38;5;28;01mfor\u001b[39;00m klass \u001b[38;5;129;01min\u001b[39;00m \u001b[38;5;28mreversed\u001b[39m(\u001b[38;5;28mtype\u001b[39m(estimator)\u001b[38;5;241m.\u001b[39mmro()):\n\u001b[0;32m    429\u001b[0m     \u001b[38;5;28;01mif\u001b[39;00m \u001b[38;5;124m\"\u001b[39m\u001b[38;5;124m__sklearn_tags__\u001b[39m\u001b[38;5;124m\"\u001b[39m \u001b[38;5;129;01min\u001b[39;00m \u001b[38;5;28mvars\u001b[39m(klass):\n\u001b[1;32m--> 430\u001b[0m         sklearn_tags_provider[klass] \u001b[38;5;241m=\u001b[39m \u001b[43mklass\u001b[49m\u001b[38;5;241;43m.\u001b[39;49m\u001b[43m__sklearn_tags__\u001b[49m\u001b[43m(\u001b[49m\u001b[43mestimator\u001b[49m\u001b[43m)\u001b[49m  \u001b[38;5;66;03m# type: ignore[attr-defined]\u001b[39;00m\n\u001b[0;32m    431\u001b[0m         class_order\u001b[38;5;241m.\u001b[39mappend(klass)\n\u001b[0;32m    432\u001b[0m     \u001b[38;5;28;01melif\u001b[39;00m \u001b[38;5;124m\"\u001b[39m\u001b[38;5;124m_more_tags\u001b[39m\u001b[38;5;124m\"\u001b[39m \u001b[38;5;129;01min\u001b[39;00m \u001b[38;5;28mvars\u001b[39m(klass):\n",
      "File \u001b[1;32mC:\\Users\\emanlangit\\Documents\\2025\\00 ACSIN\\.venv\\Lib\\site-packages\\sklearn\\base.py:540\u001b[0m, in \u001b[0;36mClassifierMixin.__sklearn_tags__\u001b[1;34m(self)\u001b[0m\n\u001b[0;32m    539\u001b[0m \u001b[38;5;28;01mdef\u001b[39;00m \u001b[38;5;21m__sklearn_tags__\u001b[39m(\u001b[38;5;28mself\u001b[39m):\n\u001b[1;32m--> 540\u001b[0m     tags \u001b[38;5;241m=\u001b[39m \u001b[38;5;28;43msuper\u001b[39;49m\u001b[43m(\u001b[49m\u001b[43m)\u001b[49m\u001b[38;5;241;43m.\u001b[39;49m\u001b[43m__sklearn_tags__\u001b[49m()\n\u001b[0;32m    541\u001b[0m     tags\u001b[38;5;241m.\u001b[39mestimator_type \u001b[38;5;241m=\u001b[39m \u001b[38;5;124m\"\u001b[39m\u001b[38;5;124mclassifier\u001b[39m\u001b[38;5;124m\"\u001b[39m\n\u001b[0;32m    542\u001b[0m     tags\u001b[38;5;241m.\u001b[39mclassifier_tags \u001b[38;5;241m=\u001b[39m ClassifierTags()\n",
      "\u001b[1;31mAttributeError\u001b[0m: 'super' object has no attribute '__sklearn_tags__'"
     ]
    }
   ],
   "source": [
    "from xgboost import XGBClassifier\n",
    "from sklearn.model_selection import RandomizedSearchCV\n",
    "from scipy.stats import uniform, randint\n",
    "\n",
    "# Define the model\n",
    "mod = \"XGB\"\n",
    "xgb_model = XGBClassifier()\n",
    "\n",
    "# Define the parameter distributions\n",
    "param_distributions = {\n",
    "    'n_estimators': randint(50,500),\n",
    "    'max_depth': randint(1, 10),\n",
    "    'learning_rate': uniform(0.00001, 0.3),\n",
    "    'subsample': uniform(0.6, 0.4),\n",
    "    'colsample_bytree': uniform(0.6, 0.4),  \n",
    "    'colsample_bylevel': uniform(0.5, 0.5),  \n",
    "    'min_child_weight': randint(1, 200),  \n",
    "    'gamma': uniform(0.0, 15.0),\n",
    "    'reg_alpha': randint(0.0, 15), \n",
    "    'reg_lambda': randint(0.0, 100),\n",
    "    'eta': uniform(0.01, 0.2),\n",
    "    'random_state' : [42],\n",
    "}\n",
    "cv = StratifiedKFold(n_splits=5, shuffle=True, random_state=42)\n",
    "# Set up the random search\n",
    "random_search = RandomizedSearchCV(estimator=xgb_model, param_distributions=param_distributions, \n",
    "                                   n_iter=12, scoring='roc_auc', cv=cv, verbose=1, random_state=42)\n",
    "\n",
    "# Fit the random search\n",
    "random_search.fit(X_train, y_train)\n",
    "\n",
    "cross_valid = pd.DataFrame(random_search.cv_results_)\n",
    "cv_results_columns = ['params', 'split0_test_score', 'split1_test_score', 'split2_test_score', \n",
    "                      'split3_test_score', 'split4_test_score', 'mean_test_score', 'std_test_score', 'rank_test_score']\n",
    "cross_valid[cv_results_columns].to_csv(f'./CV_tables/cvtable{mod}_{segment}.csv', index = False)\n",
    "\n",
    "# Best parameters\n",
    "print(f'Best parameters found {segment}: ', random_search.best_params_)"
   ]
  },
  {
   "cell_type": "markdown",
   "id": "d6256e03",
   "metadata": {},
   "source": [
    "XGB\n",
    "NTC: started: 11:51 am, ended: 11:52 am\n",
    "NTC : Best parameters found:  {'colsample_bylevel': 0.7806385987847482, 'colsample_bytree': 0.9083868719818244, 'eta': 0.10875911927287815, 'gamma': 7.840992440729911, 'learning_rate': 0.12827230550756488, 'max_depth': 3, 'min_child_weight': 63, 'n_estimators': 401, 'random_state': 42, 'reg_alpha': 6, 'reg_lambda': 51, 'subsample': 0.8253102287905535}\n",
    "\n",
    "low_CIBIL: started: 1:11 pm, ended: 1:12 pm\n",
    "low_CIBIL : Best parameters found:  {'colsample_bylevel': 0.9299702033681603, 'colsample_bytree': 0.8721230154351118, 'eta': 0.1000998503939086, 'gamma': 0.19897441739799793, 'learning_rate': 0.28267052670545584, 'max_depth': 2, 'min_child_weight': 9, 'n_estimators': 395, 'random_state': 42, 'reg_alpha': 4, 'reg_lambda': 1, 'subsample': 0.8736932106048627}\n",
    "\n",
    "mid_CIBIL: started: 1: 28 pm, ended: 1:29 pm\n",
    "mid_CIBIL : Best parameters found:  {'colsample_bylevel': 0.9299702033681603, 'colsample_bytree': 0.8721230154351118, 'eta': 0.1000998503939086, 'gamma': 0.19897441739799793, 'learning_rate': 0.28267052670545584, 'max_depth': 2, 'min_child_weight': 9, 'n_estimators': 395, 'random_state': 42, 'reg_alpha': 4, 'reg_lambda': 1, 'subsample': 0.8736932106048627}\n",
    "\n",
    "high_CIBIL: started: 1:34 pm, ended: 1:36 pm\n",
    "high_CIBIL : Best parameters found:  {'colsample_bylevel': 0.8950877702656028, 'colsample_bytree': 0.8423839899124046, 'eta': 0.19526017570266982, 'gamma': 9.766155382529167, 'learning_rate': 0.27449790266313423, 'max_depth': 9, 'min_child_weight': 72, 'n_estimators': 317, 'random_state': 42, 'reg_alpha': 1, 'reg_lambda': 32, 'subsample': 0.6254233401144095}"
   ]
  },
  {
   "cell_type": "code",
   "execution_count": null,
   "id": "3d0ffa2a",
   "metadata": {},
   "outputs": [],
   "source": []
  },
  {
   "cell_type": "markdown",
   "id": "a1926b8c",
   "metadata": {},
   "source": [
    "# 2.2 Load XGB model builder"
   ]
  },
  {
   "cell_type": "code",
   "execution_count": null,
   "id": "e82528f1",
   "metadata": {},
   "outputs": [],
   "source": [
    "#jied\n",
    "def xgbc_model_builder3(n_estimators = 100,\n",
    "                          max_depth = 6,\n",
    "                          learning_rate=0.3,\n",
    "                          subsample = 1,\n",
    "                          colsample_bytree = 1,\n",
    "                          colsample_bylevel = 1,\n",
    "                          min_child_weight =1,\n",
    "                          gamma = 0,\n",
    "                          reg_alpha = 0,\n",
    "                          reg_lambda = 1,\n",
    "                          eta = 0.3,\n",
    "                       random_state = 42):\n",
    "    \n",
    "    import xgboost as xgb\n",
    "    model = xgb.XGBClassifier(n_estimators = n_estimators,\n",
    "                              max_depth = max_depth,\n",
    "                              learning_rate=learning_rate,\n",
    "                              subsample = subsample,\n",
    "                              colsample_bytree = colsample_bytree,\n",
    "                              colsample_bylevel = colsample_bylevel,\n",
    "                              min_child_weight =min_child_weight,\n",
    "                              gamma = gamma,\n",
    "                              reg_alpha = reg_alpha,\n",
    "                              reg_lambda = reg_lambda,\n",
    "                              eta = eta,\n",
    "                              random_state = 42,\n",
    "                              enable_categorical=True,\n",
    "                              n_jobs = -1,\n",
    "                              objective = \"binary:logistic\")\n",
    "    return model"
   ]
  },
  {
   "cell_type": "markdown",
   "id": "91c301ab",
   "metadata": {},
   "source": [
    "# 2.3 Build tuned XGB model"
   ]
  },
  {
   "cell_type": "code",
   "execution_count": null,
   "id": "89eb0448",
   "metadata": {},
   "outputs": [],
   "source": [
    "xgbc_ntc_v3 = xgbc_model_builder3(n_estimators = 317,\n",
    "                          max_depth = 9,\n",
    "                          learning_rate=0.27449790266313423,\n",
    "                          subsample =  0.6254233401144095,\n",
    "                          colsample_bytree = 0.8423839899124046,\n",
    "                          colsample_bylevel = 0.8950877702656028,\n",
    "                          min_child_weight =72,\n",
    "                          gamma = 9.766155382529167,\n",
    "                          reg_alpha = 1,\n",
    "                          reg_lambda = 32,\n",
    "                          eta = 0.19526017570266982,\n",
    "                          random_state = 42)\n",
    "\n",
    "#XGBC_ohe_model_auc(load_clean_data2('NTC'), xgbc_ntc_v3)"
   ]
  },
  {
   "cell_type": "markdown",
   "id": "cf77c573",
   "metadata": {},
   "source": [
    "mid, same with low_CIBIL\n",
    "high_CIBIL : Best parameters found:   {ok}"
   ]
  },
  {
   "cell_type": "markdown",
   "id": "cc9e79b3",
   "metadata": {},
   "source": [
    "## 2.4 Plot Kfold Aucs"
   ]
  },
  {
   "cell_type": "code",
   "execution_count": null,
   "id": "ec97cc37",
   "metadata": {},
   "outputs": [],
   "source": [
    "#RF\n",
    "# kfold plotting chatgpt\n",
    "from sklearn.model_selection import StratifiedKFold\n",
    "from sklearn.metrics import RocCurveDisplay\n",
    "from sklearn.metrics import ConfusionMatrixDisplay, RocCurveDisplay, roc_curve, auc\n",
    "import matplotlib.pyplot as plt\n",
    "\n",
    "for fold_num, (train_index, test_index) in enumerate(cv.split(X_train, y_train)):\n",
    "    X_train_fold = X_train.iloc[train_index]\n",
    "    y_train_fold = y_train.iloc[train_index]\n",
    "    X_test_fold = X_train.iloc[test_index]\n",
    "    y_test_fold = y_train.iloc[test_index]\n",
    "    \n",
    "    model = xgbc_ntc_v3\n",
    "    model.fit(X_train_fold, y_train_fold)\n",
    "    y_proba = model.predict_proba(X_test_fold)[:,1]\n",
    "    \n",
    "    # Calculate ROC curve and AUC\n",
    "    fpr, tpr, _ = roc_curve(y_test_fold, y_proba)\n",
    "    roc_auc = auc(fpr, tpr)\n",
    "\n",
    "    # Plot ROC curve for each fold\n",
    "    plt.plot(fpr, tpr, label=f'Fold {fold_num+1} (AUC = {roc_auc:.2f})')\n",
    "    \n",
    "    #RocCurveDisplay.from_predictions(y_test_fold, y_proba, label=f\"Fold = {fold_num}\")\n",
    "plt.plot([0, 1], [0, 1], 'k--')  # Diagonal line\n",
    "plt.xlim([0.0, 1.0])\n",
    "plt.ylim([0.0, 1.05])\n",
    "plt.xlabel('False Positive Rate')\n",
    "plt.ylabel('True Positive Rate')\n",
    "plt.title('AUC-ROC Cross Validation')\n",
    "plt.legend(loc='lower right')\n",
    "plt.show()"
   ]
  }
 ],
 "metadata": {
  "kernelspec": {
   "display_name": "Python 3 (ipykernel)",
   "language": "python",
   "name": "python3"
  },
  "language_info": {
   "codemirror_mode": {
    "name": "ipython",
    "version": 3
   },
   "file_extension": ".py",
   "mimetype": "text/x-python",
   "name": "python",
   "nbconvert_exporter": "python",
   "pygments_lexer": "ipython3",
   "version": "3.12.2"
  }
 },
 "nbformat": 4,
 "nbformat_minor": 5
}
