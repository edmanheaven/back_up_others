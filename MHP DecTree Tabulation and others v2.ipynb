{
 "cells": [
  {
   "cell_type": "markdown",
   "id": "dd8c9a30-ba84-4bde-b7bd-4b9911aa0ef7",
   "metadata": {},
   "source": [
    "This version 2 incorporates the merchant cred quality (newly derived variable). At this point, this is specifically only to create cross tab of merchant_cred_quality x final risk class (no interrate (technically unchanged from version3) based on depth 4 only)."
   ]
  },
  {
   "cell_type": "code",
   "execution_count": 1,
   "id": "088b6f4f-39a5-4a91-abc4-b8b8a9e1d0fd",
   "metadata": {},
   "outputs": [],
   "source": [
    "import pandas as pd\n",
    "import numpy as np"
   ]
  },
  {
   "cell_type": "code",
   "execution_count": 2,
   "id": "2eb4ef6a-010f-4242-97ab-2f0e6b384ad0",
   "metadata": {},
   "outputs": [
    {
     "name": "stderr",
     "output_type": "stream",
     "text": [
      "C:\\Users\\emanlangit\\AppData\\Local\\Temp\\ipykernel_5072\\3118858516.py:1: DtypeWarning: Columns (17) have mixed types. Specify dtype option on import or set low_memory=False.\n",
      "  base_df = pd.read_csv(r\"C:\\Users\\emanlangit\\Documents\\2025\\03_ASBKH\\03 Merchant Analysis\\02 ASBC Analysis 05132025\\Data\\Base_Data_05132025.csv\")\n"
     ]
    }
   ],
   "source": [
    "base_df = pd.read_csv(r\"C:\\Users\\emanlangit\\Documents\\2025\\03_ASBKH\\03 Merchant Analysis\\02 ASBC Analysis 05132025\\Data\\Base_Data_05132025.csv\")\n",
    "df = base_df.copy()"
   ]
  },
  {
   "cell_type": "code",
   "execution_count": 3,
   "id": "77433692-ca79-462b-a363-6ed2d4fefa56",
   "metadata": {},
   "outputs": [
    {
     "data": {
      "text/plain": [
       "(444001, 31)"
      ]
     },
     "execution_count": 3,
     "metadata": {},
     "output_type": "execute_result"
    }
   ],
   "source": [
    "df.shape"
   ]
  },
  {
   "cell_type": "code",
   "execution_count": 4,
   "id": "e7517673-2b74-4e65-8ba6-c5e57fa5abea",
   "metadata": {},
   "outputs": [],
   "source": [
    "df['appdate'] = df['appdate'].apply(lambda x: pd.to_datetime(x, format='%Y-%m-%d', errors = 'coerce'))\n",
    "df['agreementdate'] = df['agreementdate'].apply(lambda x: pd.to_datetime(x, format='%Y/%m/%d', errors = 'coerce'))"
   ]
  },
  {
   "cell_type": "code",
   "execution_count": 5,
   "id": "3bf52130-768d-4239-a683-83c3b6de85d3",
   "metadata": {},
   "outputs": [],
   "source": [
    "df['D3_within8m'] = df['agreementdate_months_elapsed_valid'].apply(lambda x: 1 if 3 <= x <= 8 else 0)\n",
    "\n",
    "# Function to add tags\n",
    "def add_tags(date):\n",
    "    if date >= pd.Timestamp('2023-01-01') and date <= pd.Timestamp('2023-07-31'):\n",
    "        return 'Interval_1'\n",
    "    elif date >= pd.Timestamp('2024-01-01') and date <= pd.Timestamp('2024-07-31'):\n",
    "        return 'Interval_2'\n",
    "    else:\n",
    "        return 'Other'\n",
    "\n",
    "# Apply the function to the Date column\n",
    "df['Interval_Tag'] = df['agreementdate'].apply(add_tags)"
   ]
  },
  {
   "cell_type": "code",
   "execution_count": 6,
   "id": "4e937acf-be30-438f-8f4f-bc3e20716084",
   "metadata": {},
   "outputs": [],
   "source": [
    "#reset_df = df.copy(deep=True)\n",
    "#back_up = reset_df.copy(deep=True)"
   ]
  },
  {
   "cell_type": "code",
   "execution_count": null,
   "id": "4c78edd5-47cd-43e3-a034-b8fc0519f08d",
   "metadata": {},
   "outputs": [],
   "source": [
    "df = back_up.copy()"
   ]
  },
  {
   "cell_type": "markdown",
   "id": "3867040a-c3a7-4250-9a88-4d022f21f146",
   "metadata": {},
   "source": [
    "### Incorporate merchant cred quality variable"
   ]
  },
  {
   "cell_type": "code",
   "execution_count": 7,
   "id": "db852714-450e-47b9-ad6d-6fd2870ad457",
   "metadata": {},
   "outputs": [],
   "source": [
    "merchant_cred_qual_df = pd.read_csv(r\"C:\\Users\\emanlangit\\Documents\\2025\\03_ASBKH\\03 Merchant Analysis\\02 ASBC Analysis 05132025\\Notebooks\\MHP_2023_overall_credit_quality.csv\")\n",
    "merchant_cred_qual_df['credit_quality_ratio'] = merchant_cred_qual_df.credit_quality_ratio.fillna(-999)\n",
    "merged_df = pd.merge(df, merchant_cred_qual_df, on ='storecd', how='inner')\n",
    "df = merged_df.copy()"
   ]
  },
  {
   "cell_type": "code",
   "execution_count": 8,
   "id": "fb07b84a-db86-4bba-9aee-dbc23f00160b",
   "metadata": {},
   "outputs": [],
   "source": [
    "merchants_AD_2023 = 3710 / 8796\n",
    "lowrisk_upperbound = merchants_AD_2023*(1/3) #this is different from previous formula which used: average default * 2/3\n",
    "middlerisk_upperbound = merchants_AD_2023*(2/3) #his is different from previous formula which used: average default * 2/3 *2\n",
    "middlehighrisk_upperbound = merchants_AD_2023*(2) #same with past formula\n",
    "#salary ok\n",
    "def credit_quality_ratio_bin(x):\n",
    "    try:\n",
    "        y = float(x)\n",
    "        bins = [\n",
    "            (middlehighrisk_upperbound, 'High Risk'),\n",
    "            (middlerisk_upperbound, 'Middle High Risk'),\n",
    "            (lowrisk_upperbound, 'Middle Risk'),\n",
    "            (-1, 'Low Risk'),\n",
    "            (-1000, 'No data available')     \n",
    "        ]\n",
    "        \n",
    "        for threshold, label in bins:\n",
    "            if y > threshold:\n",
    "                return label\n",
    "    except ValueError:\n",
    "        return x\n",
    "\n",
    "df.loc[:, 'merchant_cred_quality'] = df['credit_quality_ratio'].apply(credit_quality_ratio_bin)"
   ]
  },
  {
   "cell_type": "markdown",
   "id": "ccdd9d5a-6338-45a6-bc88-4243e4105636",
   "metadata": {},
   "source": [
    "# High Risk Branch Grouping"
   ]
  },
  {
   "cell_type": "code",
   "execution_count": 9,
   "id": "87c608d8-7916-494c-923d-881bf5d659a1",
   "metadata": {},
   "outputs": [],
   "source": [
    "df['branchcode'] = df['branchcode'].astype(float)\n",
    "df['branchcode'] = df['branchcode'].fillna(-999)\n",
    "df['branchcode'] = df['branchcode'].astype(int)\n",
    "df['branchcode'] = df['branchcode'].astype(str)"
   ]
  },
  {
   "cell_type": "code",
   "execution_count": 10,
   "id": "f8b32da0-c15f-4ad1-b57c-d155c65ee781",
   "metadata": {},
   "outputs": [],
   "source": [
    "#branchcode\n",
    "df['branchcode_grp'] = np.where(\n",
    "    (df['branchcode'] == '10') | (df['branchcode'] == '15')\n",
    "    | (df['branchcode'] == '9'),\n",
    "    'HighRisk_branch', df['branchcode'])\n",
    "\n",
    "df['branchcode_grp'] = np.where(\n",
    "    (df['branchcode_grp'] != 'HighRisk_branch')\n",
    "    , 'NonHighRisk_branch', df['branchcode_grp'])"
   ]
  },
  {
   "cell_type": "markdown",
   "id": "c1ddc135-83ae-4270-be8e-1f3479f8d077",
   "metadata": {},
   "source": [
    "# Prep Dataframes\n",
    "## Divide Dataframes between High Risk and Non-High Risk"
   ]
  },
  {
   "cell_type": "code",
   "execution_count": 29,
   "id": "f51d816c-1970-4dc5-a1b2-e9561311c05d",
   "metadata": {},
   "outputs": [],
   "source": [
    "loantype_filter = df.loantype == 'MHP'\n",
    "judgement_result_filter = df.judgement_result == 'APPROVED'\n",
    "Interval1_Tag_filter = df.Interval_Tag == 'Interval_1'\n",
    "Interval2_Tag_filter = df.Interval_Tag == 'Interval_2'\n",
    "HighRiskBranch_filter = df.branchcode_grp == 'HighRisk_branch'\n",
    "NonHighRiskBranch_filter = df.branchcode_grp == 'NonHighRisk_branch'\n",
    "\n",
    "working_df_HighRiskBranch_filters = loantype_filter & judgement_result_filter & Interval2_Tag_filter & HighRiskBranch_filter\n",
    "working_df_NonHighRiskBranch_filters = loantype_filter & judgement_result_filter & Interval2_Tag_filter & NonHighRiskBranch_filter\n",
    "\n",
    "working_df1 = df[working_df_HighRiskBranch_filters]\n",
    "\n",
    "working_df2 = df[working_df_NonHighRiskBranch_filters]"
   ]
  },
  {
   "cell_type": "code",
   "execution_count": 30,
   "id": "eced8b04-9b00-44d9-a6c9-cb25a79e5218",
   "metadata": {},
   "outputs": [
    {
     "name": "stdout",
     "output_type": "stream",
     "text": [
      "(3156, 36)\n",
      "(4309, 36)\n"
     ]
    }
   ],
   "source": [
    "print(working_df1.shape)\n",
    "print(working_df2.shape)"
   ]
  },
  {
   "cell_type": "code",
   "execution_count": 31,
   "id": "ca33b675-60b5-4bb4-8be8-13c7cdd95613",
   "metadata": {},
   "outputs": [
    {
     "data": {
      "text/plain": [
       "D3_within8m\n",
       "0    4014\n",
       "1     295\n",
       "Name: count, dtype: int64"
      ]
     },
     "execution_count": 31,
     "metadata": {},
     "output_type": "execute_result"
    }
   ],
   "source": [
    "working_df2.D3_within8m.value_counts()"
   ]
  },
  {
   "cell_type": "code",
   "execution_count": 32,
   "id": "1d92da59-4cc4-41f0-bc7e-532f773828c7",
   "metadata": {},
   "outputs": [
    {
     "data": {
      "text/plain": [
       "Index(['customercd', 'agreementcd', 'loantype', 'Risk_Grade', 'storecd',\n",
       "       'currency', 'customertype', 'companytype', 'financeprice',\n",
       "       'financeprice_USD', 'typeofresident', 'salary', 'livingwith',\n",
       "       'agreementdate', 'judgement_result', 'interrate', 'period',\n",
       "       'D3_YRMTH_valid', 'livingperiod_valid', 'workingperiod_valid',\n",
       "       'age_valid', 'gender', 'maritalstatus', 'education', 'appdate',\n",
       "       'appcd_months_elapsed_valid', 'agreementdate_months_elapsed_valid',\n",
       "       'appcd', 'agreementcd_original', 'branchcode', 'position',\n",
       "       'D3_within8m', 'Interval_Tag', 'credit_quality_ratio',\n",
       "       'merchant_cred_quality', 'branchcode_grp'],\n",
       "      dtype='object')"
      ]
     },
     "execution_count": 32,
     "metadata": {},
     "output_type": "execute_result"
    }
   ],
   "source": [
    "working_df1.columns"
   ]
  },
  {
   "cell_type": "code",
   "execution_count": 33,
   "id": "42b50010-5ab2-4c85-95a1-7b52928b21de",
   "metadata": {},
   "outputs": [],
   "source": [
    "working_df1 = working_df1.rename(columns={'livingperiod_valid': 'livingperiod', 'workingperiod_valid': 'workingperiod',\n",
    "                                         'age_valid':'age'})\n",
    "working_df2 = working_df2.rename(columns={'livingperiod_valid': 'livingperiod', 'workingperiod_valid': 'workingperiod',\n",
    "                                         'age_valid':'age'})"
   ]
  },
  {
   "cell_type": "code",
   "execution_count": 34,
   "id": "03696d08-a1ad-45f2-8828-230cc3e32c55",
   "metadata": {},
   "outputs": [],
   "source": [
    "necessary_cols = ['customertype','companytype','financeprice_USD','typeofresident', 'salary', 'livingwith',\n",
    "                 'interrate', 'period','livingperiod', 'workingperiod','age','gender',\n",
    "                 'maritalstatus', 'education','position','D3_within8m','branchcode','credit_quality_ratio',\n",
    "                 'merchant_cred_quality']\n",
    "working_df1 = working_df1[necessary_cols]\n",
    "working_df2 = working_df2[necessary_cols]"
   ]
  },
  {
   "cell_type": "markdown",
   "id": "30c0fb3b-4c50-4df8-b713-c27f7f2aab07",
   "metadata": {
    "jp-MarkdownHeadingCollapsed": true
   },
   "source": [
    "# Supporting EDA"
   ]
  },
  {
   "cell_type": "code",
   "execution_count": 35,
   "id": "b3290c3b-8a91-405c-9729-ca93b4abb0e4",
   "metadata": {},
   "outputs": [],
   "source": [
    "eda_working_df1 = working_df1.copy()\n",
    "eda_working_df2 = working_df2.copy()"
   ]
  },
  {
   "cell_type": "code",
   "execution_count": 15,
   "id": "6d0ba1a6-2b42-4fb7-bfb6-f6253a813734",
   "metadata": {},
   "outputs": [],
   "source": [
    "#financeprice ok\n",
    "def financeprice_bin(x):\n",
    "    try:\n",
    "        y = float(x)\n",
    "        bins = [\n",
    "            (3000, '3000 above'),\n",
    "            (2700, '2701-3000'),\n",
    "            (2400, '2401-2700'),\n",
    "            (2100, '2101-2400'),\n",
    "            (1800, '1801-2100'),\n",
    "            (1500, '1501-1800'),\n",
    "            (-1, '1500 below')\n",
    "        ]\n",
    "        \n",
    "        for threshold, label in bins:\n",
    "            if y > threshold:\n",
    "                return label\n",
    "    except ValueError:\n",
    "        return x\n",
    "\n",
    "eda_working_df1.loc[:, 'financeprice_grp'] = eda_working_df1['financeprice_USD'].apply(financeprice_bin)\n",
    "eda_working_df2.loc[:, 'financeprice_grp'] = eda_working_df2['financeprice_USD'].apply(financeprice_bin)\n",
    "\n",
    "#salary ok\n",
    "def salary_bin(x):\n",
    "    try:\n",
    "        y = float(x)\n",
    "        bins = [\n",
    "            (600, '600 above'),\n",
    "            (500, '501-600'),\n",
    "            (400, '401-500'),\n",
    "            (300, '301-400'),\n",
    "            (-1, '300 below')\n",
    "        ]\n",
    "        \n",
    "        for threshold, label in bins:\n",
    "            if y > threshold:\n",
    "                return label\n",
    "    except ValueError:\n",
    "        return x\n",
    "\n",
    "eda_working_df1.loc[:, 'salary_grp'] = eda_working_df1['salary'].apply(salary_bin)\n",
    "eda_working_df2.loc[:, 'salary_grp'] = eda_working_df2['salary'].apply(salary_bin)\n",
    "\n",
    "#livingperiod ok\n",
    "def livingperiod_bin(x):\n",
    "    try:\n",
    "        y = float(x)\n",
    "        bins = [\n",
    "            (27, '28 above'),\n",
    "            (17, '18-27'),\n",
    "            (7, '8-17'),\n",
    "            (6, '7'),\n",
    "            (5, '6'),\n",
    "            (4, '5'),\n",
    "            (3, '4'),\n",
    "            (2, '3'),\n",
    "            (1, '2'),\n",
    "            (0, '1'),\n",
    "            (-1, '0')\n",
    "        ]\n",
    "        \n",
    "        for threshold, label in bins:\n",
    "            if y > threshold:\n",
    "                return label\n",
    "    except ValueError:\n",
    "        return x\n",
    "\n",
    "eda_working_df1.loc[:, 'livingperiod_grp'] = eda_working_df1['livingperiod'].apply(livingperiod_bin)\n",
    "eda_working_df2.loc[:, 'livingperiod_grp'] = eda_working_df2['livingperiod'].apply(livingperiod_bin)\n",
    "\n",
    "#workingperiod ok\n",
    "def workingperiod_bin(x):\n",
    "    try:\n",
    "        y = float(x)\n",
    "        bins = [\n",
    "            (7, '8 above'),\n",
    "            (6, '7'),\n",
    "            (5, '6'),\n",
    "            (4, '5'),\n",
    "            (3, '4'),\n",
    "            (2, '3'),\n",
    "            (1, '2'),\n",
    "            (0, '1'),\n",
    "            (-1, '0')\n",
    "        ]\n",
    "        \n",
    "        for threshold, label in bins:\n",
    "            if y > threshold:\n",
    "                return label\n",
    "    except ValueError:\n",
    "        return x\n",
    "\n",
    "eda_working_df1.loc[:, 'workingperiod_grp'] = eda_working_df1['workingperiod'].apply(workingperiod_bin)\n",
    "eda_working_df2.loc[:, 'workingperiod_grp'] = eda_working_df2['workingperiod'].apply(workingperiod_bin)\n",
    "\n",
    "#age \n",
    "def age_bin(x):\n",
    "    try:\n",
    "        y = float(x)\n",
    "        bins = [\n",
    "            (40, '40 above'),\n",
    "            (35, '36 to 40'),\n",
    "            (30, '31 to 35'),\n",
    "            (25, '26 to 30'),\n",
    "            (20, '21 to 25'),\n",
    "            (-1, '21 below')\n",
    "        ]\n",
    "        \n",
    "        for threshold, label in bins:\n",
    "            if y > threshold:\n",
    "                return label\n",
    "    except ValueError:\n",
    "        return x\n",
    "\n",
    "eda_working_df1.loc[:, 'age_grp'] = eda_working_df1['age'].apply(age_bin)\n",
    "eda_working_df2.loc[:, 'age_grp'] = eda_working_df2['age'].apply(age_bin)"
   ]
  },
  {
   "cell_type": "code",
   "execution_count": 16,
   "id": "9dd990e9-b113-4068-971a-afe50177bbb6",
   "metadata": {},
   "outputs": [],
   "source": [
    "# Convert the companytype column to categorical type\n",
    "eda_working_df1['companytype'] = eda_working_df1['companytype'].astype('category')\n",
    "# Define all possible categories\n",
    "all_categories_companytype = ['PRIVATE COMPANY (LESS 50 STAFFS)', 'NGO', 'SELF-EMPLOYMENT',\n",
    "       'FACTORY', 'PRIVATE COMPANY (50 STAFFS UP)', 'GOVERNMENT OFFICER',\n",
    "       'STATE ENTERPRISE', 'OTHER', 'SPECIALIST (DOCTOR, LAWYER...ETC)',\n",
    "       'EDUCATION', 'AGRICULTURE', 'BUSINESS OWNER (COMPANY)',\n",
    "       'LISTED COMPANY']\n",
    "# Set the categories\n",
    "eda_working_df1['companytype'] = eda_working_df1['companytype'].cat.set_categories(all_categories_companytype)\n",
    "\n",
    "# Convert the salary_grp column to categorical type\n",
    "eda_working_df1['salary_grp'] = eda_working_df1['salary_grp'].astype('category')\n",
    "# Define all possible categories\n",
    "all_categories_salary_grp = ['300 below', '301-400', '401-500', '501-600','600 above']\n",
    "# Set the categories\n",
    "eda_working_df1['salary_grp'] = eda_working_df1['salary_grp'].cat.set_categories(all_categories_salary_grp)\n",
    "\n",
    "# Convert the financeprice_grp column to categorical type\n",
    "eda_working_df1['financeprice_grp'] = eda_working_df1['financeprice_grp'].astype('category')\n",
    "# Define all possible categories\n",
    "all_categories_financeprice_grp = ['1500 below', '1501-1800', '1801-2100', '2101-2400','2401-2700',\n",
    "                                  '2701-3000','3000 above']\n",
    "# Set the categories\n",
    "eda_working_df1['financeprice_grp'] = eda_working_df1['financeprice_grp'].cat.set_categories(all_categories_financeprice_grp)\n",
    "\n",
    "# Convert the workingperiod_grp column to categorical type\n",
    "eda_working_df1['workingperiod_grp'] = eda_working_df1['workingperiod_grp'].astype('category')\n",
    "# Define all possible categories\n",
    "all_categories_workingperiod_grp = ['0', '1', '2', '3', '4', '5', '6','7','8 above']\n",
    "# Set the categories\n",
    "eda_working_df1['workingperiod_grp'] = eda_working_df1['workingperiod_grp'].cat.set_categories(all_categories_workingperiod_grp)\n",
    "\n",
    "# Convert the livingperiod_grp column to categorical type\n",
    "eda_working_df1['livingperiod_grp'] = eda_working_df1['livingperiod_grp'].astype('category')\n",
    "# Define all possible categories\n",
    "all_categories_livingperiod_grp = ['0', '1', '2', '3', '4', '5', '6','7','8-17','18-27','28 above']\n",
    "# Set the categories\n",
    "eda_working_df1['livingperiod_grp'] = eda_working_df1['livingperiod_grp'].cat.set_categories(all_categories_livingperiod_grp)\n",
    "\n",
    "# Convert the age_grp column to categorical type\n",
    "eda_working_df1['age_grp'] = eda_working_df1['age_grp'].astype('category')\n",
    "# Define all possible categories\n",
    "all_categories_age_grp = ['21 below', '21 to 25', '26 to 30', '31 to 35', '36 to 40', '40 above']\n",
    "# Set the categories\n",
    "eda_working_df1['age_grp'] = eda_working_df1['age_grp'].cat.set_categories(all_categories_age_grp)"
   ]
  },
  {
   "cell_type": "code",
   "execution_count": 17,
   "id": "eee3081a-6957-4d00-a11e-b67248fa742e",
   "metadata": {},
   "outputs": [],
   "source": [
    "\n",
    "# Convert the companytype column to categorical type\n",
    "eda_working_df2['companytype'] = eda_working_df2['companytype'].astype('category')\n",
    "# Define all possible categories\n",
    "all_categories_companytype = ['PRIVATE COMPANY (LESS 50 STAFFS)', 'NGO', 'SELF-EMPLOYMENT',\n",
    "       'FACTORY', 'PRIVATE COMPANY (50 STAFFS UP)', 'GOVERNMENT OFFICER',\n",
    "       'STATE ENTERPRISE', 'OTHER', 'SPECIALIST (DOCTOR, LAWYER...ETC)',\n",
    "       'EDUCATION', 'AGRICULTURE', 'BUSINESS OWNER (COMPANY)',\n",
    "       'LISTED COMPANY']\n",
    "# Set the categories\n",
    "eda_working_df2['companytype'] = eda_working_df2['companytype'].cat.set_categories(all_categories_companytype)\n",
    "\n",
    "# Convert the salary_grp column to categorical type\n",
    "eda_working_df2['salary_grp'] = eda_working_df2['salary_grp'].astype('category')\n",
    "# Define all possible categories\n",
    "all_categories_salary_grp = ['300 below', '301-400', '401-500', '501-600','600 above']\n",
    "# Set the categories\n",
    "eda_working_df2['salary_grp'] = eda_working_df2['salary_grp'].cat.set_categories(all_categories_salary_grp)\n",
    "\n",
    "# Convert the financeprice_grp column to categorical type\n",
    "eda_working_df2['financeprice_grp'] = eda_working_df2['financeprice_grp'].astype('category')\n",
    "# Define all possible categories\n",
    "all_categories_financeprice_grp = ['1500 below', '1501-1800', '1801-2100', '2101-2400','2401-2700',\n",
    "                                  '2701-3000','3000 above']\n",
    "# Set the categories\n",
    "eda_working_df2['financeprice_grp'] = eda_working_df2['financeprice_grp'].cat.set_categories(all_categories_financeprice_grp)\n",
    "\n",
    "# Convert the workingperiod_grp column to categorical type\n",
    "eda_working_df2['workingperiod_grp'] = eda_working_df2['workingperiod_grp'].astype('category')\n",
    "# Define all possible categories\n",
    "all_categories_workingperiod_grp = ['0', '1', '2', '3', '4', '5', '6','7','8 above']\n",
    "# Set the categories\n",
    "eda_working_df2['workingperiod_grp'] = eda_working_df2['workingperiod_grp'].cat.set_categories(all_categories_workingperiod_grp)\n",
    "\n",
    "# Convert the livingperiod_grp column to categorical type\n",
    "eda_working_df2['livingperiod_grp'] = eda_working_df2['livingperiod_grp'].astype('category')\n",
    "# Define all possible categories\n",
    "all_categories_livingperiod_grp = ['0', '1', '2', '3', '4', '5', '6','7','8-17','18-27','28 above']\n",
    "# Set the categories\n",
    "eda_working_df2['livingperiod_grp'] = eda_working_df2['livingperiod_grp'].cat.set_categories(all_categories_livingperiod_grp)\n",
    "\n",
    "# Convert the age_grp column to categorical type\n",
    "eda_working_df2['age_grp'] = eda_working_df2['age_grp'].astype('category')\n",
    "# Define all possible categories\n",
    "all_categories_age_grp = ['21 below', '21 to 25', '26 to 30', '31 to 35', '36 to 40', '40 above']\n",
    "# Set the categories\n",
    "eda_working_df2['age_grp'] = eda_working_df2['age_grp'].cat.set_categories(all_categories_age_grp)"
   ]
  },
  {
   "cell_type": "markdown",
   "id": "dd418108-cab1-41de-8d71-1f9a4e64641b",
   "metadata": {},
   "source": [
    "## Prep DF for defaults"
   ]
  },
  {
   "cell_type": "code",
   "execution_count": 18,
   "id": "52030f5e-09f9-42ef-aa12-0a4bdfd68c21",
   "metadata": {},
   "outputs": [],
   "source": [
    "eda_working_df1_default_filter = eda_working_df1.D3_within8m == 1\n",
    "eda_working_df1_default = eda_working_df1[eda_working_df1_default_filter]\n",
    "\n",
    "eda_working_df2_default_filter = eda_working_df2.D3_within8m == 1\n",
    "eda_working_df2_default = eda_working_df2[eda_working_df2_default_filter]\n",
    "\n",
    "eda_working_df1_nondefault_filter = eda_working_df1.D3_within8m == 0\n",
    "eda_working_df1_nondefault = eda_working_df1[eda_working_df1_nondefault_filter]\n",
    "\n",
    "eda_working_df2_nondefault_filter = eda_working_df2.D3_within8m == 0\n",
    "eda_working_df2_nondefault = eda_working_df2[eda_working_df2_nondefault_filter]"
   ]
  },
  {
   "cell_type": "markdown",
   "id": "e684c3de-ec79-40b7-9743-6407a0ed0cab",
   "metadata": {
    "jp-MarkdownHeadingCollapsed": true
   },
   "source": [
    "## Counts"
   ]
  },
  {
   "cell_type": "code",
   "execution_count": 112,
   "id": "4ae20590-aa25-4ea1-a556-cf21a4b17b91",
   "metadata": {},
   "outputs": [],
   "source": [
    "#combine all results in one workbook\n",
    "dist_categ_list = ['customertype','companytype','typeofresident',\n",
    "                  'livingwith','gender','maritalstatus','education', 'position',\n",
    "                  'salary_grp','financeprice_grp','livingperiod_grp','workingperiod_grp',\n",
    "                  'age_grp']\n",
    "\n",
    "def dist_categ(variable):\n",
    "    t1_nondefault = eda_working_df1_nondefault[variable].value_counts().sort_index()\n",
    "    t2_nondefault = eda_working_df2_nondefault[variable].value_counts().sort_index()\n",
    "    t3_default = eda_working_df1_default[variable].value_counts().sort_index()\n",
    "    t4_default = eda_working_df2_default[variable].value_counts().sort_index()\n",
    "    \n",
    "    sheetname = f'{variable}'\n",
    "    mix_df = pd.DataFrame({\n",
    "    'HighRiskBr Nondefault': t1_nondefault, \n",
    "    'NonHighRiskBr Nondefault': t2_nondefault,\n",
    "    'HighRiskBr Default Counts': t3_default,\n",
    "    'NonHighRiskBr Default': t4_default,\n",
    "})\n",
    "    mix_df.to_excel(writer,sheet_name=sheetname, index = True)\n",
    "\n",
    "def num_categ(variable):\n",
    "    t1_nondefault = eda_working_df1_nondefault[variable].astype(float).value_counts().sort_index()\n",
    "    t2_nondefault = eda_working_df2_nondefault[variable].astype(float).value_counts().sort_index()\n",
    "    t3_default = eda_working_df1_default[variable].astype(float).value_counts().sort_index()\n",
    "    t4_default = eda_working_df2_default[variable].astype(float).value_counts().sort_index()\n",
    "    \n",
    "    sheetname = f'{variable}'\n",
    "    mix_df = pd.DataFrame({\n",
    "    'HighRiskBr Nondefault': t1_nondefault, \n",
    "    'NonHighRiskBr Nondefault': t2_nondefault,\n",
    "    'HighRiskBr Default Counts': t3_default,\n",
    "    'NonHighRiskBr Default': t4_default,\n",
    "})\n",
    "    mix_df.to_excel(writer,sheet_name=sheetname, index = True)\n",
    "    \n",
    "with pd.ExcelWriter('Supporting_EDA_MHP_2024_HRB_NHRBTemp.xlsx', engine='openpyxl') as writer:\n",
    "    for i in range (0,len(dist_categ_list)):\n",
    "        dist_categ(dist_categ_list[i])\n",
    "    num_categ('period')\n",
    "    num_categ('interrate')"
   ]
  },
  {
   "cell_type": "markdown",
   "id": "0d8f48de-e986-419c-b223-ce6f6ca22ddf",
   "metadata": {},
   "source": [
    "# Tabulation and Others"
   ]
  },
  {
   "cell_type": "markdown",
   "id": "f8ddcc71-1981-4011-ba32-62027dc2b5e9",
   "metadata": {
    "jp-MarkdownHeadingCollapsed": true
   },
   "source": [
    " ## Assigning Risk Classes v1 (Using Interval 2 average default rate)"
   ]
  },
  {
   "cell_type": "markdown",
   "id": "8dad58a8-27d7-4f2a-8dcd-034e1b6a9335",
   "metadata": {},
   "source": [
    "### High Risk Branches"
   ]
  },
  {
   "cell_type": "code",
   "execution_count": 36,
   "id": "f30097ff-519f-4e35-9b5e-aa52bddbecd0",
   "metadata": {},
   "outputs": [],
   "source": [
    "try_df = eda_working_df1.copy()"
   ]
  },
  {
   "cell_type": "code",
   "execution_count": 37,
   "id": "0d2973ca-6409-4dcd-937f-bac86eb4f775",
   "metadata": {},
   "outputs": [],
   "source": [
    "#code here\n",
    "HRB_conditions = [\n",
    "    (try_df['period'] > 30) & (try_df['workingperiod'] <= 0.5) & (try_df['age'] <= 33.5)\n",
    "    & (try_df['financeprice_USD'] <= 1765),\n",
    "    (try_df['period'] > 30) & (try_df['workingperiod'] <= 0.5) & (try_df['age'] <= 33.5)\n",
    "    & (try_df['financeprice_USD'] > 1765),\n",
    "    (try_df['period'] > 30) & (try_df['workingperiod'] > 0.5) & (try_df['livingperiod'] <= 4.5)\n",
    "    & (try_df['age'] <= 24.5),\n",
    "    (try_df['period'] > 30) & (try_df['workingperiod'] <= 0.5) & (try_df['age'] > 33.5)\n",
    "    & (try_df['education'] != 'HIGH SCHOOL'),\n",
    "    (try_df['period'] <= 30) & (try_df['financeprice_USD'] <= 2115),\n",
    "    (try_df['period'] > 30) & (try_df['workingperiod'] > 0.5) & (try_df['livingperiod'] <= 4.5)\n",
    "    & (try_df['age'] > 24.5),\n",
    "    (try_df['period'] > 30) & (try_df['workingperiod'] > 0.5) & (try_df['livingperiod'] > 4.5)\n",
    "    & (try_df['livingwith'] == 'PARENTS'),\n",
    "    (try_df['period'] <= 30) & (try_df['financeprice_USD'] > 2115) & (try_df['salary'] > 489),\n",
    "    (try_df['period'] > 30) & (try_df['workingperiod'] <= 0.5) & (try_df['age'] > 33.5)\n",
    "    & (try_df['education'] == 'HIGH SCHOOL'),\n",
    "    (try_df['period'] <= 30) & (try_df['financeprice_USD'] > 2115) & (try_df['salary'] <= 489)\n",
    "    & (try_df['gender'] == 'M'),\n",
    "    (try_df['period'] > 30) & (try_df['workingperiod'] > 0.5) & (try_df['livingperiod'] > 4.5)\n",
    "    & (try_df['livingwith'] != 'PARENTS'),\n",
    "    (try_df['period'] <= 30) & (try_df['financeprice_USD'] > 2115) & (try_df['salary'] <= 489)\n",
    "    & (try_df['gender'] != 'M'),\n",
    "]\n",
    "\n",
    "HRB_risk = ['Very High Risk', 'High Risk','High Risk','High Risk',\n",
    "            'Middle Risk','Middle Risk','Middle Risk','Middle Risk',\n",
    "            'Low Risk','Low Risk','Low Risk','Low Risk'\n",
    "           ]\n",
    "\n",
    "HRB_path = ['Path 1', 'Path 2','Path 3','Path 4',\n",
    "            'Path 5','Path 6','Path 7','Path 8',\n",
    "            'Path 9','Path 10','Path 11','Path 12'\n",
    "           ]\n",
    "\n",
    "try_df['Risk_Grade'] = np.select(HRB_conditions, HRB_risk, default='Other')\n",
    "try_df['Risk_Path'] = np.select(HRB_conditions, HRB_path, default='Other')\n",
    "#try_df.to_excel('HRB_scored_v1.xlsx', index = True)\n",
    "\n",
    "eda_working_df1_risk_assigned = try_df.copy(deep=True)"
   ]
  },
  {
   "cell_type": "code",
   "execution_count": 38,
   "id": "4ffbd576-53dc-42d2-900c-0902bf4347c6",
   "metadata": {},
   "outputs": [
    {
     "data": {
      "text/plain": [
       "Risk_Path\n",
       "Path 1       67\n",
       "Path 10     181\n",
       "Path 11     249\n",
       "Path 12     122\n",
       "Path 2     1178\n",
       "Path 3      434\n",
       "Path 4      101\n",
       "Path 5      119\n",
       "Path 6      344\n",
       "Path 7      207\n",
       "Path 8       89\n",
       "Path 9       65\n",
       "Name: count, dtype: int64"
      ]
     },
     "execution_count": 38,
     "metadata": {},
     "output_type": "execute_result"
    }
   ],
   "source": [
    "#Checking if correct assignment N\n",
    "try_df.Risk_Path.value_counts().sort_index()"
   ]
  },
  {
   "cell_type": "code",
   "execution_count": 39,
   "id": "3b6233f1-b3ff-49f2-8f65-f3a06704214e",
   "metadata": {},
   "outputs": [
    {
     "data": {
      "text/plain": [
       "Risk_Grade\n",
       "High Risk         1713\n",
       "Low Risk           617\n",
       "Middle Risk        759\n",
       "Very High Risk      67\n",
       "Name: count, dtype: int64"
      ]
     },
     "execution_count": 39,
     "metadata": {},
     "output_type": "execute_result"
    }
   ],
   "source": [
    "try_df.Risk_Grade.value_counts().sort_index()"
   ]
  },
  {
   "cell_type": "markdown",
   "id": "ffbb79ba-7f2e-400d-b247-052a8f185406",
   "metadata": {},
   "source": [
    "### Non High Risk Branches"
   ]
  },
  {
   "cell_type": "code",
   "execution_count": 40,
   "id": "227a955c-b255-4508-85dc-eeb4cd3cc322",
   "metadata": {},
   "outputs": [],
   "source": [
    "try_df = eda_working_df2.copy()"
   ]
  },
  {
   "cell_type": "code",
   "execution_count": 41,
   "id": "ec928294-e45a-4a94-8a86-6018fb514d70",
   "metadata": {},
   "outputs": [
    {
     "data": {
      "text/plain": [
       "array(['PRIVATE COMPANY (50 STAFFS UP)', 'SELF-EMPLOYMENT',\n",
       "       'PRIVATE COMPANY (LESS 50 STAFFS)', 'FACTORY', 'EDUCATION',\n",
       "       'GOVERNMENT OFFICER', 'OTHER', 'NGO', 'STATE ENTERPRISE',\n",
       "       'AGRICULTURE', 'SPECIALIST (DOCTOR, LAWYER...ETC)',\n",
       "       'LISTED COMPANY', 'BUSINESS OWNER (COMPANY)'], dtype=object)"
      ]
     },
     "execution_count": 41,
     "metadata": {},
     "output_type": "execute_result"
    }
   ],
   "source": [
    "try_df.companytype.unique()"
   ]
  },
  {
   "cell_type": "code",
   "execution_count": 42,
   "id": "46603fd3-200a-44df-95f8-14260ba41b32",
   "metadata": {},
   "outputs": [],
   "source": [
    "#code here\n",
    "NHRB_conditions = [\n",
    "    (try_df['salary'] <= 325) & (try_df['gender'] == 'M') & (try_df['livingperiod'] <= 1.5)\n",
    "    & (try_df['financeprice_USD'] > 2585),\n",
    "    (try_df['salary'] <= 325) & (try_df['gender'] == 'M') & (try_df['livingperiod'] <= 1.5)\n",
    "    & (try_df['financeprice_USD'] <= 2585),\n",
    "    (try_df['salary'] <= 325) & (try_df['gender'] != 'M') & (try_df['position'] == 'OWNER'),\n",
    "    (try_df['salary'] <= 325) & (try_df['gender'] == 'M') & (try_df['livingperiod'] > 1.5)\n",
    "    & (try_df['livingwith'] != 'SPOUSE'),\n",
    "    (try_df['salary'] > 325) & (try_df['period'] > 30) & (try_df['livingperiod'] <= 31.5)\n",
    "    & (try_df['salary'] <= 402.585),\n",
    "    (try_df['salary'] <= 325) & (try_df['gender'] == 'M') & (try_df['livingperiod'] > 1.5)\n",
    "    & (try_df['livingwith'] == 'SPOUSE'),\n",
    "    (try_df['salary'] > 325) & (try_df['period'] <= 30) & (try_df['livingperiod'] <= 1.5),\n",
    "    (try_df['salary'] <= 325) & (try_df['gender'] != 'M') & (try_df['position'] != 'OWNER')\n",
    "    & (try_df['salary'] > 199),\n",
    "    (try_df['salary'] > 325) & (try_df['period'] > 30) & (try_df['livingperiod'] <= 31.5)\n",
    "    & (try_df['salary'] > 402.585),\n",
    "    (try_df['salary'] > 325) & (try_df['period'] <= 30) & (try_df['livingperiod'] > 1.5)\n",
    "    & (try_df['companytype'] == 'PRIVATE COMPANY (LESS 50 STAFFS)'),\n",
    "    (try_df['salary'] <= 325) & (try_df['gender'] != 'M') & (try_df['position'] != 'OWNER')\n",
    "    & (try_df['salary'] <= 199),\n",
    "    (try_df['salary'] > 325) & (try_df['period'] <= 30) & (try_df['livingperiod'] > 1.5)\n",
    "    & (try_df['companytype'] != 'PRIVATE COMPANY (LESS 50 STAFFS)'),\n",
    "    (try_df['salary'] > 325) & (try_df['period'] > 30) & (try_df['livingperiod'] > 31.5)    \n",
    "]\n",
    "\n",
    "NHRB_risk = ['Very High Risk','High Risk','Middle Risk','Middle Risk',\n",
    "             'Middle Risk','Low Risk','Low Risk','Low Risk',\n",
    "             'Low Risk','Low Risk','Low Risk','Low Risk',\n",
    "             'Low Risk']\n",
    "\n",
    "NHRB_path = ['Path 1', 'Path 2','Path 3','Path 4',\n",
    "            'Path 5','Path 6','Path 7','Path 8',\n",
    "            'Path 9','Path 10','Path 11','Path 12',\n",
    "             'Path 13'\n",
    "           ]\n",
    "\n",
    "try_df['Risk_Grade'] = np.select(NHRB_conditions, NHRB_risk, default='Other')\n",
    "try_df['Risk_Path'] = np.select(NHRB_conditions, NHRB_path, default='Other')\n",
    "#try_df.to_excel('NHRB_scored_v1.xlsx', index = True)\n",
    "\n",
    "eda_working_df2_risk_assigned = try_df.copy(deep=True)"
   ]
  },
  {
   "cell_type": "code",
   "execution_count": 43,
   "id": "d4ee0850-586a-4bca-b0fc-23cbec7de3b6",
   "metadata": {},
   "outputs": [
    {
     "data": {
      "text/plain": [
       "Risk_Grade\n",
       "High Risk          311\n",
       "Low Risk          2578\n",
       "Middle Risk       1331\n",
       "Very High Risk      89\n",
       "Name: count, dtype: int64"
      ]
     },
     "execution_count": 43,
     "metadata": {},
     "output_type": "execute_result"
    }
   ],
   "source": [
    "eda_working_df2_risk_assigned.Risk_Grade.value_counts().sort_index()"
   ]
  },
  {
   "cell_type": "markdown",
   "id": "4631d2d9-a8de-46a6-915b-87d19c9cc24e",
   "metadata": {},
   "source": [
    "## Cross Tabulation"
   ]
  },
  {
   "cell_type": "code",
   "execution_count": 44,
   "id": "630f8c73-df22-4033-a258-e780ee9a3814",
   "metadata": {},
   "outputs": [],
   "source": [
    "df_graded = pd.concat([eda_working_df1_risk_assigned,eda_working_df2_risk_assigned], axis=0)"
   ]
  },
  {
   "cell_type": "code",
   "execution_count": 45,
   "id": "688d126f-5290-482a-abcb-a5409d2f1949",
   "metadata": {},
   "outputs": [],
   "source": [
    "#branchcode\n",
    "df_graded['branchcode_grp'] = np.where(\n",
    "    (df_graded['branchcode'] == '9') | (df_graded['branchcode'] == '10')\n",
    "    | (df_graded['branchcode'] == '15'),\n",
    "    'HighRisk_branch', df_graded['branchcode'])\n",
    "\n",
    "df_graded['branchcode_grp'] = np.where(\n",
    "    (df_graded['branchcode_grp'] != 'HighRisk_branch')\n",
    "    , 'NonHighRisk_branch', df_graded['branchcode_grp'])"
   ]
  },
  {
   "cell_type": "code",
   "execution_count": 46,
   "id": "d734ae2e-5cef-4fb2-b6c7-aabc6197f6ef",
   "metadata": {},
   "outputs": [
    {
     "data": {
      "text/plain": [
       "Index(['customertype', 'companytype', 'financeprice_USD', 'typeofresident',\n",
       "       'salary', 'livingwith', 'interrate', 'period', 'livingperiod',\n",
       "       'workingperiod', 'age', 'gender', 'maritalstatus', 'education',\n",
       "       'position', 'D3_within8m', 'branchcode', 'credit_quality_ratio',\n",
       "       'merchant_cred_quality', 'Risk_Grade', 'Risk_Path', 'branchcode_grp'],\n",
       "      dtype='object')"
      ]
     },
     "execution_count": 46,
     "metadata": {},
     "output_type": "execute_result"
    }
   ],
   "source": [
    "df_graded.columns"
   ]
  },
  {
   "cell_type": "code",
   "execution_count": 47,
   "id": "9b1ead6d-aeb6-4c1d-94f4-c1b77619e9f6",
   "metadata": {},
   "outputs": [],
   "source": [
    "df_graded['branchcode'] = df_graded['branchcode'].astype(int)"
   ]
  },
  {
   "cell_type": "code",
   "execution_count": 48,
   "id": "f0bbd00d-8c99-4fb4-9ea0-39969738fef1",
   "metadata": {},
   "outputs": [
    {
     "name": "stdout",
     "output_type": "stream",
     "text": [
      "(3156, 22)\n",
      "(433, 22)\n",
      "(4309, 22)\n",
      "(295, 22)\n"
     ]
    }
   ],
   "source": [
    "HRB_df = df_graded[df_graded.branchcode_grp == 'HighRisk_branch']\n",
    "HRB_df_default = df_graded[(df_graded.branchcode_grp == 'HighRisk_branch') & (df_graded.D3_within8m == 1)]\n",
    "print(HRB_df.shape)\n",
    "print(HRB_df_default.shape)\n",
    "\n",
    "NHRB_df = df_graded[df_graded.branchcode_grp == 'NonHighRisk_branch']\n",
    "NHRB_df_default = df_graded[(df_graded.branchcode_grp == 'NonHighRisk_branch') & (df_graded.D3_within8m == 1)]\n",
    "print(NHRB_df.shape)\n",
    "print(NHRB_df_default.shape)"
   ]
  },
  {
   "cell_type": "markdown",
   "id": "646e0312-75ab-461d-a376-ccb835026e00",
   "metadata": {},
   "source": [
    "#### High Risk Branches"
   ]
  },
  {
   "cell_type": "code",
   "execution_count": 49,
   "id": "14f35137-b519-40fe-b6f4-686d57c2ce27",
   "metadata": {},
   "outputs": [
    {
     "data": {
      "text/html": [
       "<div>\n",
       "<style scoped>\n",
       "    .dataframe tbody tr th:only-of-type {\n",
       "        vertical-align: middle;\n",
       "    }\n",
       "\n",
       "    .dataframe tbody tr th {\n",
       "        vertical-align: top;\n",
       "    }\n",
       "\n",
       "    .dataframe thead th {\n",
       "        text-align: right;\n",
       "    }\n",
       "</style>\n",
       "<table border=\"1\" class=\"dataframe\">\n",
       "  <thead>\n",
       "    <tr style=\"text-align: right;\">\n",
       "      <th>Risk_Grade</th>\n",
       "      <th>High Risk</th>\n",
       "      <th>Low Risk</th>\n",
       "      <th>Middle Risk</th>\n",
       "      <th>Very High Risk</th>\n",
       "    </tr>\n",
       "    <tr>\n",
       "      <th>merchant_cred_quality</th>\n",
       "      <th></th>\n",
       "      <th></th>\n",
       "      <th></th>\n",
       "      <th></th>\n",
       "    </tr>\n",
       "  </thead>\n",
       "  <tbody>\n",
       "    <tr>\n",
       "      <th>High Risk</th>\n",
       "      <td>72</td>\n",
       "      <td>16</td>\n",
       "      <td>24</td>\n",
       "      <td>4</td>\n",
       "    </tr>\n",
       "    <tr>\n",
       "      <th>Low Risk</th>\n",
       "      <td>61</td>\n",
       "      <td>19</td>\n",
       "      <td>30</td>\n",
       "      <td>4</td>\n",
       "    </tr>\n",
       "    <tr>\n",
       "      <th>Middle High Risk</th>\n",
       "      <td>1429</td>\n",
       "      <td>522</td>\n",
       "      <td>628</td>\n",
       "      <td>51</td>\n",
       "    </tr>\n",
       "    <tr>\n",
       "      <th>Middle Risk</th>\n",
       "      <td>55</td>\n",
       "      <td>22</td>\n",
       "      <td>25</td>\n",
       "      <td>0</td>\n",
       "    </tr>\n",
       "    <tr>\n",
       "      <th>No data available</th>\n",
       "      <td>96</td>\n",
       "      <td>38</td>\n",
       "      <td>52</td>\n",
       "      <td>8</td>\n",
       "    </tr>\n",
       "  </tbody>\n",
       "</table>\n",
       "</div>"
      ],
      "text/plain": [
       "Risk_Grade             High Risk  Low Risk  Middle Risk  Very High Risk\n",
       "merchant_cred_quality                                                  \n",
       "High Risk                     72        16           24               4\n",
       "Low Risk                      61        19           30               4\n",
       "Middle High Risk            1429       522          628              51\n",
       "Middle Risk                   55        22           25               0\n",
       "No data available             96        38           52               8"
      ]
     },
     "execution_count": 49,
     "metadata": {},
     "output_type": "execute_result"
    }
   ],
   "source": [
    "var_1 = 'merchant_cred_quality'\n",
    "var_2 = 'Risk_Grade'\n",
    "HRB_cross_all = pd.crosstab(HRB_df[var_1], HRB_df[var_2], dropna=False)\n",
    "HRB_cross_all.sort_index()"
   ]
  },
  {
   "cell_type": "code",
   "execution_count": 50,
   "id": "c6d5c0af-628f-4ec6-92ab-56ef54d8ff83",
   "metadata": {},
   "outputs": [
    {
     "data": {
      "text/html": [
       "<div>\n",
       "<style scoped>\n",
       "    .dataframe tbody tr th:only-of-type {\n",
       "        vertical-align: middle;\n",
       "    }\n",
       "\n",
       "    .dataframe tbody tr th {\n",
       "        vertical-align: top;\n",
       "    }\n",
       "\n",
       "    .dataframe thead th {\n",
       "        text-align: right;\n",
       "    }\n",
       "</style>\n",
       "<table border=\"1\" class=\"dataframe\">\n",
       "  <thead>\n",
       "    <tr style=\"text-align: right;\">\n",
       "      <th>Risk_Grade</th>\n",
       "      <th>High Risk</th>\n",
       "      <th>Low Risk</th>\n",
       "      <th>Middle Risk</th>\n",
       "      <th>Very High Risk</th>\n",
       "    </tr>\n",
       "    <tr>\n",
       "      <th>merchant_cred_quality</th>\n",
       "      <th></th>\n",
       "      <th></th>\n",
       "      <th></th>\n",
       "      <th></th>\n",
       "    </tr>\n",
       "  </thead>\n",
       "  <tbody>\n",
       "    <tr>\n",
       "      <th>High Risk</th>\n",
       "      <td>6</td>\n",
       "      <td>1</td>\n",
       "      <td>2</td>\n",
       "      <td>3</td>\n",
       "    </tr>\n",
       "    <tr>\n",
       "      <th>Low Risk</th>\n",
       "      <td>14</td>\n",
       "      <td>0</td>\n",
       "      <td>0</td>\n",
       "      <td>1</td>\n",
       "    </tr>\n",
       "    <tr>\n",
       "      <th>Middle High Risk</th>\n",
       "      <td>264</td>\n",
       "      <td>19</td>\n",
       "      <td>67</td>\n",
       "      <td>15</td>\n",
       "    </tr>\n",
       "    <tr>\n",
       "      <th>Middle Risk</th>\n",
       "      <td>8</td>\n",
       "      <td>0</td>\n",
       "      <td>2</td>\n",
       "      <td>0</td>\n",
       "    </tr>\n",
       "    <tr>\n",
       "      <th>No data available</th>\n",
       "      <td>20</td>\n",
       "      <td>3</td>\n",
       "      <td>7</td>\n",
       "      <td>1</td>\n",
       "    </tr>\n",
       "  </tbody>\n",
       "</table>\n",
       "</div>"
      ],
      "text/plain": [
       "Risk_Grade             High Risk  Low Risk  Middle Risk  Very High Risk\n",
       "merchant_cred_quality                                                  \n",
       "High Risk                      6         1            2               3\n",
       "Low Risk                      14         0            0               1\n",
       "Middle High Risk             264        19           67              15\n",
       "Middle Risk                    8         0            2               0\n",
       "No data available             20         3            7               1"
      ]
     },
     "execution_count": 50,
     "metadata": {},
     "output_type": "execute_result"
    }
   ],
   "source": [
    "var_1 = 'merchant_cred_quality'\n",
    "var_2 = 'Risk_Grade'\n",
    "HRB_cross_default = pd.crosstab(HRB_df_default[var_1], HRB_df_default[var_2], dropna=False)\n",
    "HRB_cross_default.sort_index()"
   ]
  },
  {
   "cell_type": "code",
   "execution_count": 51,
   "id": "9c643bf8-ef56-4413-987a-f788c2b26bc8",
   "metadata": {},
   "outputs": [],
   "source": [
    "with pd.ExcelWriter('HRB_crosstab temp.xlsx', engine='openpyxl') as writer:\n",
    "    HRB_cross_all.to_excel(writer,sheet_name='all count', index = True)\n",
    "    HRB_cross_default.to_excel(writer,sheet_name='default', index = True)"
   ]
  },
  {
   "cell_type": "markdown",
   "id": "94323839-515e-4e28-a270-894e8903f9cd",
   "metadata": {},
   "source": [
    "#### Non High Risk Branches"
   ]
  },
  {
   "cell_type": "code",
   "execution_count": 52,
   "id": "7f9821f0-8af9-4fd8-af88-39be0fca0659",
   "metadata": {},
   "outputs": [],
   "source": [
    "var_1 = 'merchant_cred_quality'\n",
    "var_2 = 'Risk_Grade'\n",
    "NHRB_cross_all = pd.crosstab(NHRB_df[var_1], NHRB_df[var_2], dropna=False)"
   ]
  },
  {
   "cell_type": "code",
   "execution_count": 53,
   "id": "7032371d-afcc-4728-a470-29a7f2ec0eaa",
   "metadata": {},
   "outputs": [],
   "source": [
    "var_1 = 'merchant_cred_quality'\n",
    "var_2 = 'Risk_Grade'\n",
    "NHRB_cross_default = pd.crosstab(NHRB_df_default[var_1], NHRB_df_default[var_2], dropna=False)"
   ]
  },
  {
   "cell_type": "code",
   "execution_count": 54,
   "id": "eb4a7fc5-4627-421c-8a03-eb2a533f42c7",
   "metadata": {},
   "outputs": [],
   "source": [
    "with pd.ExcelWriter('NHRB_crosstab temp.xlsx', engine='openpyxl') as writer:\n",
    "    NHRB_cross_all.to_excel(writer,sheet_name='all count', index = True)\n",
    "    NHRB_cross_default.to_excel(writer,sheet_name='default', index = True)"
   ]
  },
  {
   "cell_type": "markdown",
   "id": "79527bbd-9873-4b19-b2b2-d52012140888",
   "metadata": {},
   "source": [
    " ## Assigning Risk Classes v2 (Using NHRB average default rate)"
   ]
  },
  {
   "cell_type": "code",
   "execution_count": 116,
   "id": "5370eb22-4e93-4a60-a173-a43997f2cc42",
   "metadata": {},
   "outputs": [],
   "source": [
    "try_df = eda_working_df1.copy()\n",
    "\n",
    "#code here\n",
    "HRB_conditions = [\n",
    "    (try_df['period'] > 30) & (try_df['workingperiod'] <= 0.5) & (try_df['age'] <= 33.5)\n",
    "    & (try_df['financeprice_USD'] <= 1765),\n",
    "    (try_df['period'] > 30) & (try_df['workingperiod'] <= 0.5) & (try_df['age'] <= 33.5)\n",
    "    & (try_df['financeprice_USD'] > 1765),\n",
    "    (try_df['period'] > 30) & (try_df['workingperiod'] > 0.5) & (try_df['livingperiod'] <= 4.5)\n",
    "    & (try_df['age'] <= 24.5),\n",
    "    (try_df['period'] > 30) & (try_df['workingperiod'] <= 0.5) & (try_df['age'] > 33.5)\n",
    "    & (try_df['education'] != 'HIGH SCHOOL'),\n",
    "    (try_df['period'] <= 30) & (try_df['financeprice_USD'] <= 2115),\n",
    "    (try_df['period'] > 30) & (try_df['workingperiod'] > 0.5) & (try_df['livingperiod'] <= 4.5)\n",
    "    & (try_df['age'] > 24.5),\n",
    "    (try_df['period'] > 30) & (try_df['workingperiod'] > 0.5) & (try_df['livingperiod'] > 4.5)\n",
    "    & (try_df['livingwith'] == 'PARENTS'),\n",
    "    (try_df['period'] <= 30) & (try_df['financeprice_USD'] > 2115) & (try_df['salary'] > 489),\n",
    "    (try_df['period'] > 30) & (try_df['workingperiod'] <= 0.5) & (try_df['age'] > 33.5)\n",
    "    & (try_df['education'] == 'HIGH SCHOOL'),\n",
    "    (try_df['period'] <= 30) & (try_df['financeprice_USD'] > 2115) & (try_df['salary'] <= 489)\n",
    "    & (try_df['gender'] == 'M'),\n",
    "    (try_df['period'] > 30) & (try_df['workingperiod'] > 0.5) & (try_df['livingperiod'] > 4.5)\n",
    "    & (try_df['livingwith'] != 'PARENTS'),\n",
    "    (try_df['period'] <= 30) & (try_df['financeprice_USD'] > 2115) & (try_df['salary'] <= 489)\n",
    "    & (try_df['gender'] != 'M'),\n",
    "]\n",
    "\n",
    "HRB_risk = ['Very High Risk', 'Very High Risk','Very High Risk','Very High Risk',\n",
    "            'High Risk','High Risk','High Risk','Middle Risk',\n",
    "            'Middle Risk','Low Risk','Low Risk','Low Risk'\n",
    "           ]\n",
    "\n",
    "HRB_path = ['Path 1', 'Path 2','Path 3','Path 4',\n",
    "            'Path 5','Path 6','Path 7','Path 8',\n",
    "            'Path 9','Path 10','Path 11','Path 12'\n",
    "           ]\n",
    "\n",
    "try_df['Risk_Grade'] = np.select(HRB_conditions, HRB_risk, default='Other')\n",
    "try_df['Risk_Path'] = np.select(HRB_conditions, HRB_path, default='Other')\n",
    "#try_df.to_excel('HRB_scored_v1.xlsx', index = True)\n",
    "\n",
    "eda_working_df1_risk_assigned_v2 = try_df.copy(deep=True)"
   ]
  },
  {
   "cell_type": "code",
   "execution_count": 117,
   "id": "2bf70856-2bc1-4f8e-8b00-0e3bab9a914f",
   "metadata": {},
   "outputs": [],
   "source": [
    "try_df = eda_working_df2.copy()\n",
    "\n",
    "#code here\n",
    "NHRB_conditions = [\n",
    "    (try_df['salary'] <= 325) & (try_df['gender'] == 'M') & (try_df['livingperiod'] <= 1.5)\n",
    "    & (try_df['financeprice_USD'] > 2585),\n",
    "    (try_df['salary'] <= 325) & (try_df['gender'] == 'M') & (try_df['livingperiod'] <= 1.5)\n",
    "    & (try_df['financeprice_USD'] <= 2585),\n",
    "    (try_df['salary'] <= 325) & (try_df['gender'] != 'M') & (try_df['position'] == 'OWNER'),\n",
    "    (try_df['salary'] <= 325) & (try_df['gender'] == 'M') & (try_df['livingperiod'] > 1.5)\n",
    "    & (try_df['livingwith'] != 'SPOUSE'),\n",
    "    (try_df['salary'] > 325) & (try_df['period'] > 30) & (try_df['livingperiod'] <= 31.5)\n",
    "    & (try_df['salary'] <= 402.585),\n",
    "    (try_df['salary'] <= 325) & (try_df['gender'] == 'M') & (try_df['livingperiod'] > 1.5)\n",
    "    & (try_df['livingwith'] == 'SPOUSE'),\n",
    "    (try_df['salary'] > 325) & (try_df['period'] <= 30) & (try_df['livingperiod'] <= 1.5),\n",
    "    (try_df['salary'] <= 325) & (try_df['gender'] != 'M') & (try_df['position'] != 'OWNER')\n",
    "    & (try_df['salary'] > 199),\n",
    "    (try_df['salary'] > 325) & (try_df['period'] > 30) & (try_df['livingperiod'] <= 31.5)\n",
    "    & (try_df['salary'] > 402.585),\n",
    "    (try_df['salary'] > 325) & (try_df['period'] <= 30) & (try_df['livingperiod'] > 1.5)\n",
    "    & (try_df['companytype'] == 'PRIVATE COMPANY (LESS 50 STAFFS)'),\n",
    "    (try_df['salary'] <= 325) & (try_df['gender'] != 'M') & (try_df['position'] != 'OWNER')\n",
    "    & (try_df['salary'] <= 199),\n",
    "    (try_df['salary'] > 325) & (try_df['period'] <= 30) & (try_df['livingperiod'] > 1.5)\n",
    "    & (try_df['companytype'] != 'PRIVATE COMPANY (LESS 50 STAFFS)'),\n",
    "    (try_df['salary'] > 325) & (try_df['period'] > 30) & (try_df['livingperiod'] > 31.5)    \n",
    "]\n",
    "\n",
    "NHRB_risk = ['Very High Risk','Very High Risk','High Risk','High Risk',\n",
    "             'Middle Risk','Middle Risk','Middle Risk','Middle Risk',\n",
    "             'Low Risk','Low Risk','Low Risk','Low Risk',\n",
    "             'Low Risk']\n",
    "\n",
    "NHRB_path = ['Path 1', 'Path 2','Path 3','Path 4',\n",
    "            'Path 5','Path 6','Path 7','Path 8',\n",
    "            'Path 9','Path 10','Path 11','Path 12',\n",
    "             'Path 13'\n",
    "           ]\n",
    "\n",
    "try_df['Risk_Grade'] = np.select(NHRB_conditions, NHRB_risk, default='Other')\n",
    "try_df['Risk_Path'] = np.select(NHRB_conditions, NHRB_path, default='Other')\n",
    "#try_df.to_excel('NHRB_scored_v1.xlsx', index = True)\n",
    "\n",
    "eda_working_df2_risk_assigned_v2 = try_df.copy(deep=True)"
   ]
  },
  {
   "cell_type": "code",
   "execution_count": 118,
   "id": "ebced48e-b087-4c96-bb56-aa033c8b65cd",
   "metadata": {},
   "outputs": [],
   "source": [
    "df_graded_v2 = pd.concat([eda_working_df1_risk_assigned_v2, eda_working_df2_risk_assigned_v2], axis=0)"
   ]
  },
  {
   "cell_type": "code",
   "execution_count": 119,
   "id": "5e06aa90-7e98-4184-b1c2-4642408e8e90",
   "metadata": {},
   "outputs": [],
   "source": [
    "#branchcode\n",
    "df_graded_v2['branchcode_grp'] = np.where(\n",
    "    (df_graded_v2['branchcode'] == '9') | (df_graded_v2['branchcode'] == '10')\n",
    "    | (df_graded_v2['branchcode'] == '15'),\n",
    "    'HighRisk_branch', df_graded_v2['branchcode'])\n",
    "\n",
    "df_graded_v2['branchcode_grp'] = np.where(\n",
    "    (df_graded_v2['branchcode_grp'] != 'HighRisk_branch')\n",
    "    , 'NonHighRisk_branch', df_graded_v2['branchcode_grp'])\n",
    "\n",
    "df_graded_v2['branchcode'] = df_graded_v2['branchcode'].astype(int)"
   ]
  },
  {
   "cell_type": "code",
   "execution_count": 120,
   "id": "858e6e42-86e2-4a9b-a244-f71d6dc5b7a7",
   "metadata": {},
   "outputs": [
    {
     "name": "stdout",
     "output_type": "stream",
     "text": [
      "(3156, 25)\n",
      "(433, 25)\n",
      "(4309, 25)\n",
      "(295, 25)\n"
     ]
    }
   ],
   "source": [
    "HRB_df = df_graded_v2[df_graded_v2.branchcode_grp == 'HighRisk_branch']\n",
    "HRB_df_default = df_graded_v2[(df_graded_v2.branchcode_grp == 'HighRisk_branch') & (df_graded_v2.D3_within8m == 1)]\n",
    "print(HRB_df.shape)\n",
    "print(HRB_df_default.shape)\n",
    "\n",
    "NHRB_df = df_graded_v2[df_graded_v2.branchcode_grp == 'NonHighRisk_branch']\n",
    "NHRB_df_default = df_graded_v2[(df_graded_v2.branchcode_grp == 'NonHighRisk_branch') & (df_graded_v2.D3_within8m == 1)]\n",
    "print(NHRB_df.shape)\n",
    "print(NHRB_df_default.shape)"
   ]
  },
  {
   "cell_type": "code",
   "execution_count": 121,
   "id": "b086692a-6c8b-43b3-be8c-e6baf99eb818",
   "metadata": {},
   "outputs": [
    {
     "data": {
      "text/html": [
       "<div>\n",
       "<style scoped>\n",
       "    .dataframe tbody tr th:only-of-type {\n",
       "        vertical-align: middle;\n",
       "    }\n",
       "\n",
       "    .dataframe tbody tr th {\n",
       "        vertical-align: top;\n",
       "    }\n",
       "\n",
       "    .dataframe thead th {\n",
       "        text-align: right;\n",
       "    }\n",
       "</style>\n",
       "<table border=\"1\" class=\"dataframe\">\n",
       "  <thead>\n",
       "    <tr style=\"text-align: right;\">\n",
       "      <th>Risk_Grade</th>\n",
       "      <th>High Risk</th>\n",
       "      <th>Low Risk</th>\n",
       "      <th>Middle Risk</th>\n",
       "      <th>Very High Risk</th>\n",
       "    </tr>\n",
       "    <tr>\n",
       "      <th>branchcode</th>\n",
       "      <th></th>\n",
       "      <th></th>\n",
       "      <th></th>\n",
       "      <th></th>\n",
       "    </tr>\n",
       "  </thead>\n",
       "  <tbody>\n",
       "    <tr>\n",
       "      <th>9</th>\n",
       "      <td>316</td>\n",
       "      <td>365</td>\n",
       "      <td>119</td>\n",
       "      <td>972</td>\n",
       "    </tr>\n",
       "    <tr>\n",
       "      <th>10</th>\n",
       "      <td>195</td>\n",
       "      <td>69</td>\n",
       "      <td>16</td>\n",
       "      <td>457</td>\n",
       "    </tr>\n",
       "    <tr>\n",
       "      <th>15</th>\n",
       "      <td>159</td>\n",
       "      <td>118</td>\n",
       "      <td>19</td>\n",
       "      <td>351</td>\n",
       "    </tr>\n",
       "  </tbody>\n",
       "</table>\n",
       "</div>"
      ],
      "text/plain": [
       "Risk_Grade  High Risk  Low Risk  Middle Risk  Very High Risk\n",
       "branchcode                                                  \n",
       "9                 316       365          119             972\n",
       "10                195        69           16             457\n",
       "15                159       118           19             351"
      ]
     },
     "execution_count": 121,
     "metadata": {},
     "output_type": "execute_result"
    }
   ],
   "source": [
    "var_1 = 'branchcode'\n",
    "var_2 = 'Risk_Grade'\n",
    "HRB_cross_all = pd.crosstab(HRB_df[var_1], HRB_df[var_2], dropna=False)\n",
    "HRB_cross_all.sort_index()"
   ]
  },
  {
   "cell_type": "code",
   "execution_count": 122,
   "id": "f754dbaf-b320-4f9a-8d62-6fd389c92cc1",
   "metadata": {},
   "outputs": [
    {
     "data": {
      "text/html": [
       "<div>\n",
       "<style scoped>\n",
       "    .dataframe tbody tr th:only-of-type {\n",
       "        vertical-align: middle;\n",
       "    }\n",
       "\n",
       "    .dataframe tbody tr th {\n",
       "        vertical-align: top;\n",
       "    }\n",
       "\n",
       "    .dataframe thead th {\n",
       "        text-align: right;\n",
       "    }\n",
       "</style>\n",
       "<table border=\"1\" class=\"dataframe\">\n",
       "  <thead>\n",
       "    <tr style=\"text-align: right;\">\n",
       "      <th>Risk_Grade</th>\n",
       "      <th>High Risk</th>\n",
       "      <th>Low Risk</th>\n",
       "      <th>Middle Risk</th>\n",
       "      <th>Very High Risk</th>\n",
       "    </tr>\n",
       "    <tr>\n",
       "      <th>branchcode</th>\n",
       "      <th></th>\n",
       "      <th></th>\n",
       "      <th></th>\n",
       "      <th></th>\n",
       "    </tr>\n",
       "  </thead>\n",
       "  <tbody>\n",
       "    <tr>\n",
       "      <th>9</th>\n",
       "      <td>29</td>\n",
       "      <td>8</td>\n",
       "      <td>10</td>\n",
       "      <td>162</td>\n",
       "    </tr>\n",
       "    <tr>\n",
       "      <th>10</th>\n",
       "      <td>28</td>\n",
       "      <td>7</td>\n",
       "      <td>0</td>\n",
       "      <td>106</td>\n",
       "    </tr>\n",
       "    <tr>\n",
       "      <th>15</th>\n",
       "      <td>13</td>\n",
       "      <td>4</td>\n",
       "      <td>2</td>\n",
       "      <td>64</td>\n",
       "    </tr>\n",
       "  </tbody>\n",
       "</table>\n",
       "</div>"
      ],
      "text/plain": [
       "Risk_Grade  High Risk  Low Risk  Middle Risk  Very High Risk\n",
       "branchcode                                                  \n",
       "9                  29         8           10             162\n",
       "10                 28         7            0             106\n",
       "15                 13         4            2              64"
      ]
     },
     "execution_count": 122,
     "metadata": {},
     "output_type": "execute_result"
    }
   ],
   "source": [
    "var_1 = 'branchcode'\n",
    "var_2 = 'Risk_Grade'\n",
    "HRB_cross_default = pd.crosstab(HRB_df_default[var_1], HRB_df_default[var_2], dropna=False)\n",
    "HRB_cross_default.sort_index()"
   ]
  },
  {
   "cell_type": "code",
   "execution_count": 123,
   "id": "f46ec46a-dd6e-449e-9a62-a5643ebca10b",
   "metadata": {},
   "outputs": [],
   "source": [
    "var_1 = 'branchcode'\n",
    "var_2 = 'Risk_Grade'\n",
    "NHRB_cross_all = pd.crosstab(NHRB_df[var_1], NHRB_df[var_2], dropna=False)\n",
    "NHRB_cross_default = pd.crosstab(NHRB_df_default[var_1], NHRB_df_default[var_2], dropna=False)\n",
    "\n",
    "with pd.ExcelWriter('NHRB_crosstab_v2 temp.xlsx', engine='openpyxl') as writer:\n",
    "    NHRB_cross_all.to_excel(writer,sheet_name='all count', index = True)\n",
    "    NHRB_cross_default.to_excel(writer,sheet_name='default', index = True)"
   ]
  },
  {
   "cell_type": "code",
   "execution_count": null,
   "id": "4cc6239d-f87a-4008-88ec-10a6412516d9",
   "metadata": {},
   "outputs": [],
   "source": []
  },
  {
   "cell_type": "code",
   "execution_count": null,
   "id": "8d3b63af-2858-4bc1-8e66-e373a88e0c46",
   "metadata": {},
   "outputs": [],
   "source": []
  }
 ],
 "metadata": {
  "kernelspec": {
   "display_name": "Python 3 (ipykernel)",
   "language": "python",
   "name": "python3"
  },
  "language_info": {
   "codemirror_mode": {
    "name": "ipython",
    "version": 3
   },
   "file_extension": ".py",
   "mimetype": "text/x-python",
   "name": "python",
   "nbconvert_exporter": "python",
   "pygments_lexer": "ipython3",
   "version": "3.12.2"
  }
 },
 "nbformat": 4,
 "nbformat_minor": 5
}
